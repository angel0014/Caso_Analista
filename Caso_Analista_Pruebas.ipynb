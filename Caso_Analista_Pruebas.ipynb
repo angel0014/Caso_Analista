{
 "cells": [
  {
   "cell_type": "markdown",
   "id": "06583941",
   "metadata": {
    "tags": []
   },
   "source": [
    "# **Caso Analista**                                                           \n",
    "    --Elaborado por: Angello Perilla Ampudia--"
   ]
  },
  {
   "cell_type": "markdown",
   "id": "1c2523e4-2bc7-4296-a7fb-7ff252190ebc",
   "metadata": {
    "jp-MarkdownHeadingCollapsed": true,
    "tags": []
   },
   "source": [
    "## 1. Cargue y lectura de los datos"
   ]
  },
  {
   "cell_type": "code",
   "execution_count": 1,
   "id": "842b96d6",
   "metadata": {},
   "outputs": [
    {
     "name": "stdout",
     "output_type": "stream",
     "text": [
      "Importación exitosa!\n"
     ]
    }
   ],
   "source": [
    "# Importando librerías\n",
    "import numpy as np\n",
    "import pandas as pd\n",
    "import os\n",
    "import matplotlib.pyplot as plt\n",
    "import seaborn as sns\n",
    "\n",
    "print('Importación exitosa!')"
   ]
  },
  {
   "cell_type": "code",
   "execution_count": 2,
   "id": "1a251bdb-d925-41f5-b287-a44f9646ce5d",
   "metadata": {},
   "outputs": [
    {
     "name": "stdout",
     "output_type": "stream",
     "text": [
      "C:\\Users\\diana\\Caso_analista_pruebas/Historicos/\n"
     ]
    },
    {
     "data": {
      "text/plain": [
       "['.ipynb_checkpoints',\n",
       " 'Refinancia_202202.csv',\n",
       " 'Refinancia_202203.csv',\n",
       " 'Refinancia_202204.csv',\n",
       " 'Refinancia_202205.csv',\n",
       " 'Refinancia_202206.csv']"
      ]
     },
     "execution_count": 2,
     "metadata": {},
     "output_type": "execute_result"
    }
   ],
   "source": [
    "# directorio actual\n",
    "ruta = os.getcwd() + '/Historicos/'\n",
    "print(ruta)\n",
    "\n",
    "# listar archivos directorio actual\n",
    "os.listdir('Historicos')"
   ]
  },
  {
   "cell_type": "code",
   "execution_count": 3,
   "id": "5f8eb827-8f30-4bb2-985d-fc9dfd9afab1",
   "metadata": {},
   "outputs": [
    {
     "data": {
      "text/plain": [
       "['Refinancia_202202.csv',\n",
       " 'Refinancia_202203.csv',\n",
       " 'Refinancia_202204.csv',\n",
       " 'Refinancia_202205.csv',\n",
       " 'Refinancia_202206.csv']"
      ]
     },
     "execution_count": 3,
     "metadata": {},
     "output_type": "execute_result"
    }
   ],
   "source": [
    "# consolidar archivos solo de interés\n",
    "consolidado = [file for file in os.listdir('Historicos') if file.startswith('R')]\n",
    "consolidado"
   ]
  },
  {
   "cell_type": "code",
   "execution_count": 4,
   "id": "1bbeb9f9-5194-450f-b3f8-6be7b85588f7",
   "metadata": {},
   "outputs": [
    {
     "data": {
      "text/plain": [
       "'C:/Users/diana/Caso_analista_pruebas/Historicos/'"
      ]
     },
     "execution_count": 4,
     "metadata": {},
     "output_type": "execute_result"
    }
   ],
   "source": [
    "# nueva ruta para que la función pd.read_csv funcione\n",
    "ruta_nueva = ruta.replace('\\\\','/')\n",
    "ruta_nueva"
   ]
  },
  {
   "cell_type": "code",
   "execution_count": 5,
   "id": "a9df16d0-8fcc-4d32-84e5-d077b3777df7",
   "metadata": {},
   "outputs": [
    {
     "name": "stdout",
     "output_type": "stream",
     "text": [
      "(1217884, 24)\n"
     ]
    },
    {
     "data": {
      "text/html": [
       "<div>\n",
       "<style scoped>\n",
       "    .dataframe tbody tr th:only-of-type {\n",
       "        vertical-align: middle;\n",
       "    }\n",
       "\n",
       "    .dataframe tbody tr th {\n",
       "        vertical-align: top;\n",
       "    }\n",
       "\n",
       "    .dataframe thead th {\n",
       "        text-align: right;\n",
       "    }\n",
       "</style>\n",
       "<table border=\"1\" class=\"dataframe\">\n",
       "  <thead>\n",
       "    <tr style=\"text-align: right;\">\n",
       "      <th></th>\n",
       "      <th>Cosecha</th>\n",
       "      <th>IdCliente</th>\n",
       "      <th>LoanID</th>\n",
       "      <th>SaldoCapital</th>\n",
       "      <th>DiasMora</th>\n",
       "      <th>FechaCompra</th>\n",
       "      <th>Ciudad</th>\n",
       "      <th>Departamento</th>\n",
       "      <th>TipoProducto</th>\n",
       "      <th>PagosRealizadoUltMes</th>\n",
       "      <th>...</th>\n",
       "      <th>PagosRealizadoUlt6Meses</th>\n",
       "      <th>FechaUltPago</th>\n",
       "      <th>PagosTotales</th>\n",
       "      <th>LocalizacionUlt6Meses</th>\n",
       "      <th>AcuerdosUlt6Meses</th>\n",
       "      <th>AcuerdosUlt3Meses</th>\n",
       "      <th>SaldoxCliente</th>\n",
       "      <th>Fabrica</th>\n",
       "      <th>Canal</th>\n",
       "      <th>Pago</th>\n",
       "    </tr>\n",
       "  </thead>\n",
       "  <tbody>\n",
       "    <tr>\n",
       "      <th>0</th>\n",
       "      <td>202202</td>\n",
       "      <td>2894380</td>\n",
       "      <td>6869827</td>\n",
       "      <td>1378004.89</td>\n",
       "      <td>775</td>\n",
       "      <td>2018-07-27</td>\n",
       "      <td>FLORIDABLANCA</td>\n",
       "      <td>SANTANDER</td>\n",
       "      <td>Tarjeta de Crédito</td>\n",
       "      <td>0.0</td>\n",
       "      <td>...</td>\n",
       "      <td>0.0</td>\n",
       "      <td>2019-07-22</td>\n",
       "      <td>141215.991102</td>\n",
       "      <td>0</td>\n",
       "      <td>0</td>\n",
       "      <td>0</td>\n",
       "      <td>6342788.60</td>\n",
       "      <td>Cierres</td>\n",
       "      <td>Callcenter - Outbound</td>\n",
       "      <td>0</td>\n",
       "    </tr>\n",
       "    <tr>\n",
       "      <th>1</th>\n",
       "      <td>202202</td>\n",
       "      <td>3705918</td>\n",
       "      <td>6876848</td>\n",
       "      <td>25670368.13</td>\n",
       "      <td>757</td>\n",
       "      <td>2018-07-27</td>\n",
       "      <td>PUERTO SANTANDER</td>\n",
       "      <td>NORTE DE SANTANDER</td>\n",
       "      <td>Libranza</td>\n",
       "      <td>0.0</td>\n",
       "      <td>...</td>\n",
       "      <td>0.0</td>\n",
       "      <td>NaN</td>\n",
       "      <td>0.000000</td>\n",
       "      <td>1</td>\n",
       "      <td>0</td>\n",
       "      <td>0</td>\n",
       "      <td>25670368.13</td>\n",
       "      <td>Cierres</td>\n",
       "      <td>Callcenter - Outbound</td>\n",
       "      <td>0</td>\n",
       "    </tr>\n",
       "    <tr>\n",
       "      <th>2</th>\n",
       "      <td>202202</td>\n",
       "      <td>2984052</td>\n",
       "      <td>5599248</td>\n",
       "      <td>891060.00</td>\n",
       "      <td>328</td>\n",
       "      <td>2016-05-25</td>\n",
       "      <td>PIEDECUESTA</td>\n",
       "      <td>SANTANDER</td>\n",
       "      <td>Tarjeta de Crédito</td>\n",
       "      <td>0.0</td>\n",
       "      <td>...</td>\n",
       "      <td>0.0</td>\n",
       "      <td>NaN</td>\n",
       "      <td>0.000000</td>\n",
       "      <td>0</td>\n",
       "      <td>0</td>\n",
       "      <td>0</td>\n",
       "      <td>5822331.00</td>\n",
       "      <td>Cierres</td>\n",
       "      <td>Callcenter - Outbound</td>\n",
       "      <td>0</td>\n",
       "    </tr>\n",
       "    <tr>\n",
       "      <th>3</th>\n",
       "      <td>202202</td>\n",
       "      <td>3796790</td>\n",
       "      <td>7057584</td>\n",
       "      <td>5992551.24</td>\n",
       "      <td>1039</td>\n",
       "      <td>2019-09-02</td>\n",
       "      <td>SOGAMOSO</td>\n",
       "      <td>BOYACA</td>\n",
       "      <td>Retail Colombia</td>\n",
       "      <td>0.0</td>\n",
       "      <td>...</td>\n",
       "      <td>0.0</td>\n",
       "      <td>NaN</td>\n",
       "      <td>0.000000</td>\n",
       "      <td>0</td>\n",
       "      <td>0</td>\n",
       "      <td>0</td>\n",
       "      <td>5992551.24</td>\n",
       "      <td>Cierres</td>\n",
       "      <td>Callcenter - Outbound</td>\n",
       "      <td>0</td>\n",
       "    </tr>\n",
       "    <tr>\n",
       "      <th>4</th>\n",
       "      <td>202202</td>\n",
       "      <td>3140642</td>\n",
       "      <td>5903122</td>\n",
       "      <td>19119531.00</td>\n",
       "      <td>390</td>\n",
       "      <td>2016-12-26</td>\n",
       "      <td>TURBACO</td>\n",
       "      <td>BOLIVAR</td>\n",
       "      <td>Crédito Personal</td>\n",
       "      <td>0.0</td>\n",
       "      <td>...</td>\n",
       "      <td>0.0</td>\n",
       "      <td>NaN</td>\n",
       "      <td>0.000000</td>\n",
       "      <td>0</td>\n",
       "      <td>0</td>\n",
       "      <td>0</td>\n",
       "      <td>26908417.16</td>\n",
       "      <td>Judicializacion</td>\n",
       "      <td>Callcenter - Blended</td>\n",
       "      <td>0</td>\n",
       "    </tr>\n",
       "    <tr>\n",
       "      <th>...</th>\n",
       "      <td>...</td>\n",
       "      <td>...</td>\n",
       "      <td>...</td>\n",
       "      <td>...</td>\n",
       "      <td>...</td>\n",
       "      <td>...</td>\n",
       "      <td>...</td>\n",
       "      <td>...</td>\n",
       "      <td>...</td>\n",
       "      <td>...</td>\n",
       "      <td>...</td>\n",
       "      <td>...</td>\n",
       "      <td>...</td>\n",
       "      <td>...</td>\n",
       "      <td>...</td>\n",
       "      <td>...</td>\n",
       "      <td>...</td>\n",
       "      <td>...</td>\n",
       "      <td>...</td>\n",
       "      <td>...</td>\n",
       "      <td>...</td>\n",
       "    </tr>\n",
       "    <tr>\n",
       "      <th>240326</th>\n",
       "      <td>202206</td>\n",
       "      <td>2734489</td>\n",
       "      <td>5176902</td>\n",
       "      <td>3976808.00</td>\n",
       "      <td>559</td>\n",
       "      <td>2015-03-25</td>\n",
       "      <td>ARBOLETES</td>\n",
       "      <td>ANTIOQUIA</td>\n",
       "      <td>Tarjeta de Crédito</td>\n",
       "      <td>0.0</td>\n",
       "      <td>...</td>\n",
       "      <td>0.0</td>\n",
       "      <td>NaN</td>\n",
       "      <td>0.000000</td>\n",
       "      <td>0</td>\n",
       "      <td>0</td>\n",
       "      <td>0</td>\n",
       "      <td>15407498.18</td>\n",
       "      <td>Cierres</td>\n",
       "      <td>Callcenter - Outbound</td>\n",
       "      <td>0</td>\n",
       "    </tr>\n",
       "    <tr>\n",
       "      <th>240327</th>\n",
       "      <td>202206</td>\n",
       "      <td>2734489</td>\n",
       "      <td>5176903</td>\n",
       "      <td>3962776.00</td>\n",
       "      <td>316</td>\n",
       "      <td>2015-03-25</td>\n",
       "      <td>ARBOLETES</td>\n",
       "      <td>ANTIOQUIA</td>\n",
       "      <td>Tarjeta de Crédito</td>\n",
       "      <td>0.0</td>\n",
       "      <td>...</td>\n",
       "      <td>0.0</td>\n",
       "      <td>NaN</td>\n",
       "      <td>0.000000</td>\n",
       "      <td>0</td>\n",
       "      <td>0</td>\n",
       "      <td>0</td>\n",
       "      <td>15407498.18</td>\n",
       "      <td>Cierres</td>\n",
       "      <td>Callcenter - Outbound</td>\n",
       "      <td>0</td>\n",
       "    </tr>\n",
       "    <tr>\n",
       "      <th>240328</th>\n",
       "      <td>202206</td>\n",
       "      <td>143119</td>\n",
       "      <td>4121652</td>\n",
       "      <td>19532148.76</td>\n",
       "      <td>1884</td>\n",
       "      <td>2014-03-13</td>\n",
       "      <td>BOGOTA DC</td>\n",
       "      <td>BOGOTA DC</td>\n",
       "      <td>Libranza</td>\n",
       "      <td>0.0</td>\n",
       "      <td>...</td>\n",
       "      <td>0.0</td>\n",
       "      <td>NaN</td>\n",
       "      <td>0.000000</td>\n",
       "      <td>0</td>\n",
       "      <td>0</td>\n",
       "      <td>0</td>\n",
       "      <td>21619377.76</td>\n",
       "      <td>Cierres</td>\n",
       "      <td>Tercerizacion</td>\n",
       "      <td>0</td>\n",
       "    </tr>\n",
       "    <tr>\n",
       "      <th>240329</th>\n",
       "      <td>202206</td>\n",
       "      <td>2878328</td>\n",
       "      <td>5390542</td>\n",
       "      <td>4907705.00</td>\n",
       "      <td>166</td>\n",
       "      <td>2015-08-31</td>\n",
       "      <td>AGUACHICA</td>\n",
       "      <td>CESAR</td>\n",
       "      <td>Crédito Rotativo</td>\n",
       "      <td>0.0</td>\n",
       "      <td>...</td>\n",
       "      <td>0.0</td>\n",
       "      <td>NaN</td>\n",
       "      <td>0.000000</td>\n",
       "      <td>0</td>\n",
       "      <td>0</td>\n",
       "      <td>0</td>\n",
       "      <td>13928433.47</td>\n",
       "      <td>Cierres</td>\n",
       "      <td>Callcenter - Outbound</td>\n",
       "      <td>0</td>\n",
       "    </tr>\n",
       "    <tr>\n",
       "      <th>240330</th>\n",
       "      <td>202206</td>\n",
       "      <td>2390181</td>\n",
       "      <td>4442651</td>\n",
       "      <td>8173564.78</td>\n",
       "      <td>886</td>\n",
       "      <td>2014-08-14</td>\n",
       "      <td>MANIZALES</td>\n",
       "      <td>CALDAS</td>\n",
       "      <td>Crédito Personal</td>\n",
       "      <td>0.0</td>\n",
       "      <td>...</td>\n",
       "      <td>0.0</td>\n",
       "      <td>NaN</td>\n",
       "      <td>0.000000</td>\n",
       "      <td>0</td>\n",
       "      <td>0</td>\n",
       "      <td>0</td>\n",
       "      <td>8173564.78</td>\n",
       "      <td>Cierres</td>\n",
       "      <td>Callcenter - Outbound</td>\n",
       "      <td>0</td>\n",
       "    </tr>\n",
       "  </tbody>\n",
       "</table>\n",
       "<p>1217884 rows × 24 columns</p>\n",
       "</div>"
      ],
      "text/plain": [
       "        Cosecha  IdCliente   LoanID  SaldoCapital  DiasMora FechaCompra  \\\n",
       "0        202202    2894380  6869827    1378004.89       775  2018-07-27   \n",
       "1        202202    3705918  6876848   25670368.13       757  2018-07-27   \n",
       "2        202202    2984052  5599248     891060.00       328  2016-05-25   \n",
       "3        202202    3796790  7057584    5992551.24      1039  2019-09-02   \n",
       "4        202202    3140642  5903122   19119531.00       390  2016-12-26   \n",
       "...         ...        ...      ...           ...       ...         ...   \n",
       "240326   202206    2734489  5176902    3976808.00       559  2015-03-25   \n",
       "240327   202206    2734489  5176903    3962776.00       316  2015-03-25   \n",
       "240328   202206     143119  4121652   19532148.76      1884  2014-03-13   \n",
       "240329   202206    2878328  5390542    4907705.00       166  2015-08-31   \n",
       "240330   202206    2390181  4442651    8173564.78       886  2014-08-14   \n",
       "\n",
       "                  Ciudad        Departamento        TipoProducto  \\\n",
       "0          FLORIDABLANCA           SANTANDER  Tarjeta de Crédito   \n",
       "1       PUERTO SANTANDER  NORTE DE SANTANDER            Libranza   \n",
       "2            PIEDECUESTA           SANTANDER  Tarjeta de Crédito   \n",
       "3               SOGAMOSO              BOYACA     Retail Colombia   \n",
       "4                TURBACO             BOLIVAR    Crédito Personal   \n",
       "...                  ...                 ...                 ...   \n",
       "240326         ARBOLETES           ANTIOQUIA  Tarjeta de Crédito   \n",
       "240327         ARBOLETES           ANTIOQUIA  Tarjeta de Crédito   \n",
       "240328         BOGOTA DC           BOGOTA DC            Libranza   \n",
       "240329         AGUACHICA               CESAR    Crédito Rotativo   \n",
       "240330         MANIZALES              CALDAS    Crédito Personal   \n",
       "\n",
       "        PagosRealizadoUltMes  ...  PagosRealizadoUlt6Meses  FechaUltPago  \\\n",
       "0                        0.0  ...                      0.0    2019-07-22   \n",
       "1                        0.0  ...                      0.0           NaN   \n",
       "2                        0.0  ...                      0.0           NaN   \n",
       "3                        0.0  ...                      0.0           NaN   \n",
       "4                        0.0  ...                      0.0           NaN   \n",
       "...                      ...  ...                      ...           ...   \n",
       "240326                   0.0  ...                      0.0           NaN   \n",
       "240327                   0.0  ...                      0.0           NaN   \n",
       "240328                   0.0  ...                      0.0           NaN   \n",
       "240329                   0.0  ...                      0.0           NaN   \n",
       "240330                   0.0  ...                      0.0           NaN   \n",
       "\n",
       "         PagosTotales  LocalizacionUlt6Meses  AcuerdosUlt6Meses  \\\n",
       "0       141215.991102                      0                  0   \n",
       "1            0.000000                      1                  0   \n",
       "2            0.000000                      0                  0   \n",
       "3            0.000000                      0                  0   \n",
       "4            0.000000                      0                  0   \n",
       "...               ...                    ...                ...   \n",
       "240326       0.000000                      0                  0   \n",
       "240327       0.000000                      0                  0   \n",
       "240328       0.000000                      0                  0   \n",
       "240329       0.000000                      0                  0   \n",
       "240330       0.000000                      0                  0   \n",
       "\n",
       "       AcuerdosUlt3Meses  SaldoxCliente          Fabrica  \\\n",
       "0                      0     6342788.60          Cierres   \n",
       "1                      0    25670368.13          Cierres   \n",
       "2                      0     5822331.00          Cierres   \n",
       "3                      0     5992551.24          Cierres   \n",
       "4                      0    26908417.16  Judicializacion   \n",
       "...                  ...            ...              ...   \n",
       "240326                 0    15407498.18          Cierres   \n",
       "240327                 0    15407498.18          Cierres   \n",
       "240328                 0    21619377.76          Cierres   \n",
       "240329                 0    13928433.47          Cierres   \n",
       "240330                 0     8173564.78          Cierres   \n",
       "\n",
       "                        Canal  Pago  \n",
       "0       Callcenter - Outbound     0  \n",
       "1       Callcenter - Outbound     0  \n",
       "2       Callcenter - Outbound     0  \n",
       "3       Callcenter - Outbound     0  \n",
       "4        Callcenter - Blended     0  \n",
       "...                       ...   ...  \n",
       "240326  Callcenter - Outbound     0  \n",
       "240327  Callcenter - Outbound     0  \n",
       "240328          Tercerizacion     0  \n",
       "240329  Callcenter - Outbound     0  \n",
       "240330  Callcenter - Outbound     0  \n",
       "\n",
       "[1217884 rows x 24 columns]"
      ]
     },
     "execution_count": 5,
     "metadata": {},
     "output_type": "execute_result"
    }
   ],
   "source": [
    "# unificar archivos historicos\n",
    "clientes_unificado = pd.DataFrame()\n",
    "\n",
    "for file in consolidado:\n",
    "    clientes_unificado = clientes_unificado.append(pd.read_csv(ruta_nueva+file))\n",
    "\n",
    "print(clientes_unificado.shape)                                          \n",
    "clientes_unificado"
   ]
  },
  {
   "cell_type": "code",
   "execution_count": null,
   "id": "457b057e-083b-4244-821a-b0f3f14681b6",
   "metadata": {},
   "outputs": [],
   "source": []
  },
  {
   "cell_type": "markdown",
   "id": "c77b88c1-d182-4480-9b9d-bea4d4c3b110",
   "metadata": {
    "jp-MarkdownHeadingCollapsed": true,
    "tags": []
   },
   "source": [
    "## 2. Análisis Exploratorio"
   ]
  },
  {
   "cell_type": "code",
   "execution_count": 6,
   "id": "2bce7d31",
   "metadata": {},
   "outputs": [
    {
     "data": {
      "text/html": [
       "<div>\n",
       "<style scoped>\n",
       "    .dataframe tbody tr th:only-of-type {\n",
       "        vertical-align: middle;\n",
       "    }\n",
       "\n",
       "    .dataframe tbody tr th {\n",
       "        vertical-align: top;\n",
       "    }\n",
       "\n",
       "    .dataframe thead th {\n",
       "        text-align: right;\n",
       "    }\n",
       "</style>\n",
       "<table border=\"1\" class=\"dataframe\">\n",
       "  <thead>\n",
       "    <tr style=\"text-align: right;\">\n",
       "      <th></th>\n",
       "      <th>Cosecha</th>\n",
       "      <th>IdCliente</th>\n",
       "      <th>LoanID</th>\n",
       "      <th>SaldoCapital</th>\n",
       "      <th>DiasMora</th>\n",
       "      <th>PagosRealizadoUltMes</th>\n",
       "      <th>PagosRealizadoUlt2Meses</th>\n",
       "      <th>PagosRealizadoUlt3Meses</th>\n",
       "      <th>PagosRealizadoUlt4Meses</th>\n",
       "      <th>PagosRealizadoUlt5Meses</th>\n",
       "      <th>PagosRealizadoUlt6Meses</th>\n",
       "      <th>PagosTotales</th>\n",
       "      <th>LocalizacionUlt6Meses</th>\n",
       "      <th>AcuerdosUlt6Meses</th>\n",
       "      <th>AcuerdosUlt3Meses</th>\n",
       "      <th>SaldoxCliente</th>\n",
       "      <th>Pago</th>\n",
       "    </tr>\n",
       "  </thead>\n",
       "  <tbody>\n",
       "    <tr>\n",
       "      <th>count</th>\n",
       "      <td>1.217884e+06</td>\n",
       "      <td>1.217884e+06</td>\n",
       "      <td>1.217884e+06</td>\n",
       "      <td>1.217884e+06</td>\n",
       "      <td>1.217884e+06</td>\n",
       "      <td>1.217884e+06</td>\n",
       "      <td>1.217884e+06</td>\n",
       "      <td>1.217884e+06</td>\n",
       "      <td>1.217884e+06</td>\n",
       "      <td>1.217884e+06</td>\n",
       "      <td>1.217884e+06</td>\n",
       "      <td>1.217884e+06</td>\n",
       "      <td>1.217884e+06</td>\n",
       "      <td>1.217884e+06</td>\n",
       "      <td>1.217884e+06</td>\n",
       "      <td>1.217884e+06</td>\n",
       "      <td>1.217884e+06</td>\n",
       "    </tr>\n",
       "    <tr>\n",
       "      <th>mean</th>\n",
       "      <td>2.022040e+05</td>\n",
       "      <td>2.561056e+06</td>\n",
       "      <td>5.408753e+06</td>\n",
       "      <td>6.541820e+06</td>\n",
       "      <td>9.662414e+02</td>\n",
       "      <td>1.578419e+03</td>\n",
       "      <td>6.130793e+02</td>\n",
       "      <td>3.823653e+02</td>\n",
       "      <td>2.069240e+02</td>\n",
       "      <td>2.337891e+02</td>\n",
       "      <td>2.226845e+02</td>\n",
       "      <td>2.545648e+04</td>\n",
       "      <td>2.922741e-01</td>\n",
       "      <td>2.271152e-03</td>\n",
       "      <td>1.390937e-03</td>\n",
       "      <td>1.930162e+07</td>\n",
       "      <td>5.101471e-03</td>\n",
       "    </tr>\n",
       "    <tr>\n",
       "      <th>std</th>\n",
       "      <td>1.414104e+00</td>\n",
       "      <td>1.048979e+06</td>\n",
       "      <td>1.593997e+06</td>\n",
       "      <td>9.299078e+06</td>\n",
       "      <td>7.989087e+02</td>\n",
       "      <td>1.049454e+05</td>\n",
       "      <td>7.969976e+04</td>\n",
       "      <td>3.795008e+04</td>\n",
       "      <td>2.082014e+04</td>\n",
       "      <td>2.902411e+04</td>\n",
       "      <td>2.194083e+04</td>\n",
       "      <td>4.237050e+05</td>\n",
       "      <td>4.548078e-01</td>\n",
       "      <td>4.760248e-02</td>\n",
       "      <td>3.726934e-02</td>\n",
       "      <td>2.167197e+07</td>\n",
       "      <td>7.124219e-02</td>\n",
       "    </tr>\n",
       "    <tr>\n",
       "      <th>min</th>\n",
       "      <td>2.022020e+05</td>\n",
       "      <td>3.200000e+01</td>\n",
       "      <td>1.300000e+02</td>\n",
       "      <td>7.000000e-02</td>\n",
       "      <td>1.000000e+00</td>\n",
       "      <td>0.000000e+00</td>\n",
       "      <td>0.000000e+00</td>\n",
       "      <td>0.000000e+00</td>\n",
       "      <td>0.000000e+00</td>\n",
       "      <td>0.000000e+00</td>\n",
       "      <td>0.000000e+00</td>\n",
       "      <td>0.000000e+00</td>\n",
       "      <td>0.000000e+00</td>\n",
       "      <td>0.000000e+00</td>\n",
       "      <td>0.000000e+00</td>\n",
       "      <td>5.500016e+06</td>\n",
       "      <td>0.000000e+00</td>\n",
       "    </tr>\n",
       "    <tr>\n",
       "      <th>25%</th>\n",
       "      <td>2.022030e+05</td>\n",
       "      <td>1.923201e+06</td>\n",
       "      <td>4.154463e+06</td>\n",
       "      <td>1.644472e+06</td>\n",
       "      <td>4.090000e+02</td>\n",
       "      <td>0.000000e+00</td>\n",
       "      <td>0.000000e+00</td>\n",
       "      <td>0.000000e+00</td>\n",
       "      <td>0.000000e+00</td>\n",
       "      <td>0.000000e+00</td>\n",
       "      <td>0.000000e+00</td>\n",
       "      <td>0.000000e+00</td>\n",
       "      <td>0.000000e+00</td>\n",
       "      <td>0.000000e+00</td>\n",
       "      <td>0.000000e+00</td>\n",
       "      <td>8.150739e+06</td>\n",
       "      <td>0.000000e+00</td>\n",
       "    </tr>\n",
       "    <tr>\n",
       "      <th>50%</th>\n",
       "      <td>2.022040e+05</td>\n",
       "      <td>2.783354e+06</td>\n",
       "      <td>5.605371e+06</td>\n",
       "      <td>3.800000e+06</td>\n",
       "      <td>7.410000e+02</td>\n",
       "      <td>0.000000e+00</td>\n",
       "      <td>0.000000e+00</td>\n",
       "      <td>0.000000e+00</td>\n",
       "      <td>0.000000e+00</td>\n",
       "      <td>0.000000e+00</td>\n",
       "      <td>0.000000e+00</td>\n",
       "      <td>0.000000e+00</td>\n",
       "      <td>0.000000e+00</td>\n",
       "      <td>0.000000e+00</td>\n",
       "      <td>0.000000e+00</td>\n",
       "      <td>1.257567e+07</td>\n",
       "      <td>0.000000e+00</td>\n",
       "    </tr>\n",
       "    <tr>\n",
       "      <th>75%</th>\n",
       "      <td>2.022050e+05</td>\n",
       "      <td>3.340311e+06</td>\n",
       "      <td>6.711464e+06</td>\n",
       "      <td>7.746504e+06</td>\n",
       "      <td>1.353000e+03</td>\n",
       "      <td>0.000000e+00</td>\n",
       "      <td>0.000000e+00</td>\n",
       "      <td>0.000000e+00</td>\n",
       "      <td>0.000000e+00</td>\n",
       "      <td>0.000000e+00</td>\n",
       "      <td>0.000000e+00</td>\n",
       "      <td>0.000000e+00</td>\n",
       "      <td>1.000000e+00</td>\n",
       "      <td>0.000000e+00</td>\n",
       "      <td>0.000000e+00</td>\n",
       "      <td>2.157901e+07</td>\n",
       "      <td>0.000000e+00</td>\n",
       "    </tr>\n",
       "    <tr>\n",
       "      <th>max</th>\n",
       "      <td>2.022060e+05</td>\n",
       "      <td>4.066189e+06</td>\n",
       "      <td>7.831496e+06</td>\n",
       "      <td>4.336654e+08</td>\n",
       "      <td>4.197300e+04</td>\n",
       "      <td>3.445911e+07</td>\n",
       "      <td>6.458746e+07</td>\n",
       "      <td>1.501919e+07</td>\n",
       "      <td>8.077550e+06</td>\n",
       "      <td>1.368633e+07</td>\n",
       "      <td>1.368633e+07</td>\n",
       "      <td>7.601847e+07</td>\n",
       "      <td>1.000000e+00</td>\n",
       "      <td>1.000000e+00</td>\n",
       "      <td>1.000000e+00</td>\n",
       "      <td>5.648711e+08</td>\n",
       "      <td>1.000000e+00</td>\n",
       "    </tr>\n",
       "  </tbody>\n",
       "</table>\n",
       "</div>"
      ],
      "text/plain": [
       "            Cosecha     IdCliente        LoanID  SaldoCapital      DiasMora  \\\n",
       "count  1.217884e+06  1.217884e+06  1.217884e+06  1.217884e+06  1.217884e+06   \n",
       "mean   2.022040e+05  2.561056e+06  5.408753e+06  6.541820e+06  9.662414e+02   \n",
       "std    1.414104e+00  1.048979e+06  1.593997e+06  9.299078e+06  7.989087e+02   \n",
       "min    2.022020e+05  3.200000e+01  1.300000e+02  7.000000e-02  1.000000e+00   \n",
       "25%    2.022030e+05  1.923201e+06  4.154463e+06  1.644472e+06  4.090000e+02   \n",
       "50%    2.022040e+05  2.783354e+06  5.605371e+06  3.800000e+06  7.410000e+02   \n",
       "75%    2.022050e+05  3.340311e+06  6.711464e+06  7.746504e+06  1.353000e+03   \n",
       "max    2.022060e+05  4.066189e+06  7.831496e+06  4.336654e+08  4.197300e+04   \n",
       "\n",
       "       PagosRealizadoUltMes  PagosRealizadoUlt2Meses  PagosRealizadoUlt3Meses  \\\n",
       "count          1.217884e+06             1.217884e+06             1.217884e+06   \n",
       "mean           1.578419e+03             6.130793e+02             3.823653e+02   \n",
       "std            1.049454e+05             7.969976e+04             3.795008e+04   \n",
       "min            0.000000e+00             0.000000e+00             0.000000e+00   \n",
       "25%            0.000000e+00             0.000000e+00             0.000000e+00   \n",
       "50%            0.000000e+00             0.000000e+00             0.000000e+00   \n",
       "75%            0.000000e+00             0.000000e+00             0.000000e+00   \n",
       "max            3.445911e+07             6.458746e+07             1.501919e+07   \n",
       "\n",
       "       PagosRealizadoUlt4Meses  PagosRealizadoUlt5Meses  \\\n",
       "count             1.217884e+06             1.217884e+06   \n",
       "mean              2.069240e+02             2.337891e+02   \n",
       "std               2.082014e+04             2.902411e+04   \n",
       "min               0.000000e+00             0.000000e+00   \n",
       "25%               0.000000e+00             0.000000e+00   \n",
       "50%               0.000000e+00             0.000000e+00   \n",
       "75%               0.000000e+00             0.000000e+00   \n",
       "max               8.077550e+06             1.368633e+07   \n",
       "\n",
       "       PagosRealizadoUlt6Meses  PagosTotales  LocalizacionUlt6Meses  \\\n",
       "count             1.217884e+06  1.217884e+06           1.217884e+06   \n",
       "mean              2.226845e+02  2.545648e+04           2.922741e-01   \n",
       "std               2.194083e+04  4.237050e+05           4.548078e-01   \n",
       "min               0.000000e+00  0.000000e+00           0.000000e+00   \n",
       "25%               0.000000e+00  0.000000e+00           0.000000e+00   \n",
       "50%               0.000000e+00  0.000000e+00           0.000000e+00   \n",
       "75%               0.000000e+00  0.000000e+00           1.000000e+00   \n",
       "max               1.368633e+07  7.601847e+07           1.000000e+00   \n",
       "\n",
       "       AcuerdosUlt6Meses  AcuerdosUlt3Meses  SaldoxCliente          Pago  \n",
       "count       1.217884e+06       1.217884e+06   1.217884e+06  1.217884e+06  \n",
       "mean        2.271152e-03       1.390937e-03   1.930162e+07  5.101471e-03  \n",
       "std         4.760248e-02       3.726934e-02   2.167197e+07  7.124219e-02  \n",
       "min         0.000000e+00       0.000000e+00   5.500016e+06  0.000000e+00  \n",
       "25%         0.000000e+00       0.000000e+00   8.150739e+06  0.000000e+00  \n",
       "50%         0.000000e+00       0.000000e+00   1.257567e+07  0.000000e+00  \n",
       "75%         0.000000e+00       0.000000e+00   2.157901e+07  0.000000e+00  \n",
       "max         1.000000e+00       1.000000e+00   5.648711e+08  1.000000e+00  "
      ]
     },
     "execution_count": 6,
     "metadata": {},
     "output_type": "execute_result"
    }
   ],
   "source": [
    "# resumen estadistico de clientes_unificado\n",
    "clientes_unificado.describe()"
   ]
  },
  {
   "cell_type": "code",
   "execution_count": 7,
   "id": "c0b8ec24-062a-4bbb-9864-77d075eb2659",
   "metadata": {},
   "outputs": [
    {
     "name": "stdout",
     "output_type": "stream",
     "text": [
      "<class 'pandas.core.frame.DataFrame'>\n",
      "Int64Index: 1217884 entries, 0 to 240330\n",
      "Data columns (total 24 columns):\n",
      " #   Column                   Non-Null Count    Dtype  \n",
      "---  ------                   --------------    -----  \n",
      " 0   Cosecha                  1217884 non-null  int64  \n",
      " 1   IdCliente                1217884 non-null  int64  \n",
      " 2   LoanID                   1217884 non-null  int64  \n",
      " 3   SaldoCapital             1217884 non-null  float64\n",
      " 4   DiasMora                 1217884 non-null  int64  \n",
      " 5   FechaCompra              1217884 non-null  object \n",
      " 6   Ciudad                   1217884 non-null  object \n",
      " 7   Departamento             1217884 non-null  object \n",
      " 8   TipoProducto             1217884 non-null  object \n",
      " 9   PagosRealizadoUltMes     1217884 non-null  float64\n",
      " 10  PagosRealizadoUlt2Meses  1217884 non-null  float64\n",
      " 11  PagosRealizadoUlt3Meses  1217884 non-null  float64\n",
      " 12  PagosRealizadoUlt4Meses  1217884 non-null  float64\n",
      " 13  PagosRealizadoUlt5Meses  1217884 non-null  float64\n",
      " 14  PagosRealizadoUlt6Meses  1217884 non-null  float64\n",
      " 15  FechaUltPago             21226 non-null    object \n",
      " 16  PagosTotales             1217884 non-null  float64\n",
      " 17  LocalizacionUlt6Meses    1217884 non-null  int64  \n",
      " 18  AcuerdosUlt6Meses        1217884 non-null  int64  \n",
      " 19  AcuerdosUlt3Meses        1217884 non-null  int64  \n",
      " 20  SaldoxCliente            1217884 non-null  float64\n",
      " 21  Fabrica                  1217884 non-null  object \n",
      " 22  Canal                    1217884 non-null  object \n",
      " 23  Pago                     1217884 non-null  int64  \n",
      "dtypes: float64(9), int64(8), object(7)\n",
      "memory usage: 232.3+ MB\n"
     ]
    }
   ],
   "source": [
    "# resumen de la data contenida en clientes_unificado\n",
    "clientes_unificado.info()"
   ]
  },
  {
   "cell_type": "code",
   "execution_count": 8,
   "id": "11f531ad-db4c-4e5e-ab0a-1888fe2547ef",
   "metadata": {},
   "outputs": [
    {
     "data": {
      "text/plain": [
       "Index(['Cosecha', 'IdCliente', 'LoanID', 'SaldoCapital', 'DiasMora',\n",
       "       'FechaCompra', 'Ciudad', 'Departamento', 'TipoProducto',\n",
       "       'PagosRealizadoUltMes', 'PagosRealizadoUlt2Meses',\n",
       "       'PagosRealizadoUlt3Meses', 'PagosRealizadoUlt4Meses',\n",
       "       'PagosRealizadoUlt5Meses', 'PagosRealizadoUlt6Meses', 'FechaUltPago',\n",
       "       'PagosTotales', 'LocalizacionUlt6Meses', 'AcuerdosUlt6Meses',\n",
       "       'AcuerdosUlt3Meses', 'SaldoxCliente', 'Fabrica', 'Canal', 'Pago'],\n",
       "      dtype='object')"
      ]
     },
     "execution_count": 8,
     "metadata": {},
     "output_type": "execute_result"
    }
   ],
   "source": [
    "# columnas clientes_unificado\n",
    "clientes_unificado.columns"
   ]
  },
  {
   "cell_type": "code",
   "execution_count": 9,
   "id": "972e102c-0568-47fd-b78a-b4ba35c37eed",
   "metadata": {},
   "outputs": [
    {
     "data": {
      "text/html": [
       "<div>\n",
       "<style scoped>\n",
       "    .dataframe tbody tr th:only-of-type {\n",
       "        vertical-align: middle;\n",
       "    }\n",
       "\n",
       "    .dataframe tbody tr th {\n",
       "        vertical-align: top;\n",
       "    }\n",
       "\n",
       "    .dataframe thead th {\n",
       "        text-align: right;\n",
       "    }\n",
       "</style>\n",
       "<table border=\"1\" class=\"dataframe\">\n",
       "  <thead>\n",
       "    <tr style=\"text-align: right;\">\n",
       "      <th></th>\n",
       "      <th>FechaCompra</th>\n",
       "      <th>Ciudad</th>\n",
       "      <th>Departamento</th>\n",
       "      <th>TipoProducto</th>\n",
       "      <th>FechaUltPago</th>\n",
       "      <th>Fabrica</th>\n",
       "      <th>Canal</th>\n",
       "    </tr>\n",
       "  </thead>\n",
       "  <tbody>\n",
       "    <tr>\n",
       "      <th>count</th>\n",
       "      <td>1217884</td>\n",
       "      <td>1217884</td>\n",
       "      <td>1217884</td>\n",
       "      <td>1217884</td>\n",
       "      <td>21226</td>\n",
       "      <td>1217884</td>\n",
       "      <td>1217884</td>\n",
       "    </tr>\n",
       "    <tr>\n",
       "      <th>unique</th>\n",
       "      <td>84</td>\n",
       "      <td>879</td>\n",
       "      <td>39</td>\n",
       "      <td>12</td>\n",
       "      <td>1208</td>\n",
       "      <td>2</td>\n",
       "      <td>3</td>\n",
       "    </tr>\n",
       "    <tr>\n",
       "      <th>top</th>\n",
       "      <td>2021-10-29</td>\n",
       "      <td>BOGOTA DC</td>\n",
       "      <td>BOGOTA DC</td>\n",
       "      <td>Tarjeta de Crédito</td>\n",
       "      <td>2020-02-27</td>\n",
       "      <td>Cierres</td>\n",
       "      <td>Callcenter - Outbound</td>\n",
       "    </tr>\n",
       "    <tr>\n",
       "      <th>freq</th>\n",
       "      <td>95177</td>\n",
       "      <td>468284</td>\n",
       "      <td>468284</td>\n",
       "      <td>444711</td>\n",
       "      <td>211</td>\n",
       "      <td>1078040</td>\n",
       "      <td>923008</td>\n",
       "    </tr>\n",
       "  </tbody>\n",
       "</table>\n",
       "</div>"
      ],
      "text/plain": [
       "       FechaCompra     Ciudad Departamento        TipoProducto FechaUltPago  \\\n",
       "count      1217884    1217884      1217884             1217884        21226   \n",
       "unique          84        879           39                  12         1208   \n",
       "top     2021-10-29  BOGOTA DC    BOGOTA DC  Tarjeta de Crédito   2020-02-27   \n",
       "freq         95177     468284       468284              444711          211   \n",
       "\n",
       "        Fabrica                  Canal  \n",
       "count   1217884                1217884  \n",
       "unique        2                      3  \n",
       "top     Cierres  Callcenter - Outbound  \n",
       "freq    1078040                 923008  "
      ]
     },
     "execution_count": 9,
     "metadata": {},
     "output_type": "execute_result"
    }
   ],
   "source": [
    "# variables categoricas\n",
    "clientes_unificado.describe(include=['O'])"
   ]
  },
  {
   "cell_type": "code",
   "execution_count": 10,
   "id": "59f73e13-62a0-4dae-afb1-6e54820c74b6",
   "metadata": {},
   "outputs": [
    {
     "data": {
      "text/plain": [
       "Pago\n",
       "0    1211671\n",
       "1       6213\n",
       "Name: IdCliente, dtype: int64"
      ]
     },
     "execution_count": 10,
     "metadata": {},
     "output_type": "execute_result"
    }
   ],
   "source": [
    "# comportamiento variable objetivo\n",
    "clientes_unificado.groupby(['Pago']).count()['IdCliente']\n"
   ]
  },
  {
   "cell_type": "code",
   "execution_count": 11,
   "id": "f730eb13-0395-4f32-bd8f-eeb2f8706ddb",
   "metadata": {},
   "outputs": [
    {
     "data": {
      "text/plain": [
       "<AxesSubplot:title={'center':'Distribución forma de pago'}, xlabel='Pago'>"
      ]
     },
     "execution_count": 11,
     "metadata": {},
     "output_type": "execute_result"
    },
    {
     "data": {
      "image/png": "[encoded data removed]",
      "text/plain": [
       "<Figure size 360x288 with 1 Axes>"
      ]
     },
     "metadata": {
      "needs_background": "light"
     },
     "output_type": "display_data"
    }
   ],
   "source": [
    "# Grafico comportamiento variable objetivo\n",
    "grafica = clientes_unificado.groupby(['Pago']).count()['IdCliente']\n",
    "\n",
    "grafica.plot( kind=\"bar\",  figsize=(5,4), alpha=1, title='Distribución forma de pago')"
   ]
  },
  {
   "cell_type": "code",
   "execution_count": 12,
   "id": "acf73c3a-8d73-4dda-8060-751b6187dcb0",
   "metadata": {},
   "outputs": [],
   "source": [
    "# Variable Objetivo\n",
    "\n",
    "y = clientes_unificado.Pago"
   ]
  },
  {
   "cell_type": "code",
   "execution_count": 13,
   "id": "9b8e44dd-e5d6-4224-b208-d15b613e67e1",
   "metadata": {},
   "outputs": [],
   "source": [
    "# Caractericas (variables explicativas)\n",
    "\n",
    "features = ['SaldoCapital', 'DiasMora', 'PagosRealizadoUltMes','PagosRealizadoUlt2Meses', 'PagosRealizadoUlt3Meses',\n",
    "            'PagosRealizadoUlt4Meses','PagosRealizadoUlt5Meses','PagosRealizadoUlt6Meses','PagosTotales', 'LocalizacionUlt6Meses',\n",
    "            'AcuerdosUlt6Meses','AcuerdosUlt3Meses','SaldoxCliente']"
   ]
  },
  {
   "cell_type": "code",
   "execution_count": 14,
   "id": "8964043c-4614-4f6b-b568-6d515e432eaa",
   "metadata": {},
   "outputs": [],
   "source": [
    "# X features\n",
    "X = clientes_unificado[features]"
   ]
  },
  {
   "cell_type": "code",
   "execution_count": 15,
   "id": "8b9f812f-a1cb-4e4c-a936-746cf17cd7e9",
   "metadata": {},
   "outputs": [
    {
     "data": {
      "text/html": [
       "<div>\n",
       "<style scoped>\n",
       "    .dataframe tbody tr th:only-of-type {\n",
       "        vertical-align: middle;\n",
       "    }\n",
       "\n",
       "    .dataframe tbody tr th {\n",
       "        vertical-align: top;\n",
       "    }\n",
       "\n",
       "    .dataframe thead th {\n",
       "        text-align: right;\n",
       "    }\n",
       "</style>\n",
       "<table border=\"1\" class=\"dataframe\">\n",
       "  <thead>\n",
       "    <tr style=\"text-align: right;\">\n",
       "      <th></th>\n",
       "      <th>SaldoCapital</th>\n",
       "      <th>DiasMora</th>\n",
       "      <th>PagosRealizadoUltMes</th>\n",
       "      <th>PagosRealizadoUlt2Meses</th>\n",
       "      <th>PagosRealizadoUlt3Meses</th>\n",
       "      <th>PagosRealizadoUlt4Meses</th>\n",
       "      <th>PagosRealizadoUlt5Meses</th>\n",
       "      <th>PagosRealizadoUlt6Meses</th>\n",
       "      <th>PagosTotales</th>\n",
       "      <th>LocalizacionUlt6Meses</th>\n",
       "      <th>AcuerdosUlt6Meses</th>\n",
       "      <th>AcuerdosUlt3Meses</th>\n",
       "      <th>SaldoxCliente</th>\n",
       "    </tr>\n",
       "  </thead>\n",
       "  <tbody>\n",
       "    <tr>\n",
       "      <th>count</th>\n",
       "      <td>1.217884e+06</td>\n",
       "      <td>1.217884e+06</td>\n",
       "      <td>1.217884e+06</td>\n",
       "      <td>1.217884e+06</td>\n",
       "      <td>1.217884e+06</td>\n",
       "      <td>1.217884e+06</td>\n",
       "      <td>1.217884e+06</td>\n",
       "      <td>1.217884e+06</td>\n",
       "      <td>1.217884e+06</td>\n",
       "      <td>1.217884e+06</td>\n",
       "      <td>1.217884e+06</td>\n",
       "      <td>1.217884e+06</td>\n",
       "      <td>1.217884e+06</td>\n",
       "    </tr>\n",
       "    <tr>\n",
       "      <th>mean</th>\n",
       "      <td>6.541820e+06</td>\n",
       "      <td>9.662414e+02</td>\n",
       "      <td>1.578419e+03</td>\n",
       "      <td>6.130793e+02</td>\n",
       "      <td>3.823653e+02</td>\n",
       "      <td>2.069240e+02</td>\n",
       "      <td>2.337891e+02</td>\n",
       "      <td>2.226845e+02</td>\n",
       "      <td>2.545648e+04</td>\n",
       "      <td>2.922741e-01</td>\n",
       "      <td>2.271152e-03</td>\n",
       "      <td>1.390937e-03</td>\n",
       "      <td>1.930162e+07</td>\n",
       "    </tr>\n",
       "    <tr>\n",
       "      <th>std</th>\n",
       "      <td>9.299078e+06</td>\n",
       "      <td>7.989087e+02</td>\n",
       "      <td>1.049454e+05</td>\n",
       "      <td>7.969976e+04</td>\n",
       "      <td>3.795008e+04</td>\n",
       "      <td>2.082014e+04</td>\n",
       "      <td>2.902411e+04</td>\n",
       "      <td>2.194083e+04</td>\n",
       "      <td>4.237050e+05</td>\n",
       "      <td>4.548078e-01</td>\n",
       "      <td>4.760248e-02</td>\n",
       "      <td>3.726934e-02</td>\n",
       "      <td>2.167197e+07</td>\n",
       "    </tr>\n",
       "    <tr>\n",
       "      <th>min</th>\n",
       "      <td>7.000000e-02</td>\n",
       "      <td>1.000000e+00</td>\n",
       "      <td>0.000000e+00</td>\n",
       "      <td>0.000000e+00</td>\n",
       "      <td>0.000000e+00</td>\n",
       "      <td>0.000000e+00</td>\n",
       "      <td>0.000000e+00</td>\n",
       "      <td>0.000000e+00</td>\n",
       "      <td>0.000000e+00</td>\n",
       "      <td>0.000000e+00</td>\n",
       "      <td>0.000000e+00</td>\n",
       "      <td>0.000000e+00</td>\n",
       "      <td>5.500016e+06</td>\n",
       "    </tr>\n",
       "    <tr>\n",
       "      <th>25%</th>\n",
       "      <td>1.644472e+06</td>\n",
       "      <td>4.090000e+02</td>\n",
       "      <td>0.000000e+00</td>\n",
       "      <td>0.000000e+00</td>\n",
       "      <td>0.000000e+00</td>\n",
       "      <td>0.000000e+00</td>\n",
       "      <td>0.000000e+00</td>\n",
       "      <td>0.000000e+00</td>\n",
       "      <td>0.000000e+00</td>\n",
       "      <td>0.000000e+00</td>\n",
       "      <td>0.000000e+00</td>\n",
       "      <td>0.000000e+00</td>\n",
       "      <td>8.150739e+06</td>\n",
       "    </tr>\n",
       "    <tr>\n",
       "      <th>50%</th>\n",
       "      <td>3.800000e+06</td>\n",
       "      <td>7.410000e+02</td>\n",
       "      <td>0.000000e+00</td>\n",
       "      <td>0.000000e+00</td>\n",
       "      <td>0.000000e+00</td>\n",
       "      <td>0.000000e+00</td>\n",
       "      <td>0.000000e+00</td>\n",
       "      <td>0.000000e+00</td>\n",
       "      <td>0.000000e+00</td>\n",
       "      <td>0.000000e+00</td>\n",
       "      <td>0.000000e+00</td>\n",
       "      <td>0.000000e+00</td>\n",
       "      <td>1.257567e+07</td>\n",
       "    </tr>\n",
       "    <tr>\n",
       "      <th>75%</th>\n",
       "      <td>7.746504e+06</td>\n",
       "      <td>1.353000e+03</td>\n",
       "      <td>0.000000e+00</td>\n",
       "      <td>0.000000e+00</td>\n",
       "      <td>0.000000e+00</td>\n",
       "      <td>0.000000e+00</td>\n",
       "      <td>0.000000e+00</td>\n",
       "      <td>0.000000e+00</td>\n",
       "      <td>0.000000e+00</td>\n",
       "      <td>1.000000e+00</td>\n",
       "      <td>0.000000e+00</td>\n",
       "      <td>0.000000e+00</td>\n",
       "      <td>2.157901e+07</td>\n",
       "    </tr>\n",
       "    <tr>\n",
       "      <th>max</th>\n",
       "      <td>4.336654e+08</td>\n",
       "      <td>4.197300e+04</td>\n",
       "      <td>3.445911e+07</td>\n",
       "      <td>6.458746e+07</td>\n",
       "      <td>1.501919e+07</td>\n",
       "      <td>8.077550e+06</td>\n",
       "      <td>1.368633e+07</td>\n",
       "      <td>1.368633e+07</td>\n",
       "      <td>7.601847e+07</td>\n",
       "      <td>1.000000e+00</td>\n",
       "      <td>1.000000e+00</td>\n",
       "      <td>1.000000e+00</td>\n",
       "      <td>5.648711e+08</td>\n",
       "    </tr>\n",
       "  </tbody>\n",
       "</table>\n",
       "</div>"
      ],
      "text/plain": [
       "       SaldoCapital      DiasMora  PagosRealizadoUltMes  \\\n",
       "count  1.217884e+06  1.217884e+06          1.217884e+06   \n",
       "mean   6.541820e+06  9.662414e+02          1.578419e+03   \n",
       "std    9.299078e+06  7.989087e+02          1.049454e+05   \n",
       "min    7.000000e-02  1.000000e+00          0.000000e+00   \n",
       "25%    1.644472e+06  4.090000e+02          0.000000e+00   \n",
       "50%    3.800000e+06  7.410000e+02          0.000000e+00   \n",
       "75%    7.746504e+06  1.353000e+03          0.000000e+00   \n",
       "max    4.336654e+08  4.197300e+04          3.445911e+07   \n",
       "\n",
       "       PagosRealizadoUlt2Meses  PagosRealizadoUlt3Meses  \\\n",
       "count             1.217884e+06             1.217884e+06   \n",
       "mean              6.130793e+02             3.823653e+02   \n",
       "std               7.969976e+04             3.795008e+04   \n",
       "min               0.000000e+00             0.000000e+00   \n",
       "25%               0.000000e+00             0.000000e+00   \n",
       "50%               0.000000e+00             0.000000e+00   \n",
       "75%               0.000000e+00             0.000000e+00   \n",
       "max               6.458746e+07             1.501919e+07   \n",
       "\n",
       "       PagosRealizadoUlt4Meses  PagosRealizadoUlt5Meses  \\\n",
       "count             1.217884e+06             1.217884e+06   \n",
       "mean              2.069240e+02             2.337891e+02   \n",
       "std               2.082014e+04             2.902411e+04   \n",
       "min               0.000000e+00             0.000000e+00   \n",
       "25%               0.000000e+00             0.000000e+00   \n",
       "50%               0.000000e+00             0.000000e+00   \n",
       "75%               0.000000e+00             0.000000e+00   \n",
       "max               8.077550e+06             1.368633e+07   \n",
       "\n",
       "       PagosRealizadoUlt6Meses  PagosTotales  LocalizacionUlt6Meses  \\\n",
       "count             1.217884e+06  1.217884e+06           1.217884e+06   \n",
       "mean              2.226845e+02  2.545648e+04           2.922741e-01   \n",
       "std               2.194083e+04  4.237050e+05           4.548078e-01   \n",
       "min               0.000000e+00  0.000000e+00           0.000000e+00   \n",
       "25%               0.000000e+00  0.000000e+00           0.000000e+00   \n",
       "50%               0.000000e+00  0.000000e+00           0.000000e+00   \n",
       "75%               0.000000e+00  0.000000e+00           1.000000e+00   \n",
       "max               1.368633e+07  7.601847e+07           1.000000e+00   \n",
       "\n",
       "       AcuerdosUlt6Meses  AcuerdosUlt3Meses  SaldoxCliente  \n",
       "count       1.217884e+06       1.217884e+06   1.217884e+06  \n",
       "mean        2.271152e-03       1.390937e-03   1.930162e+07  \n",
       "std         4.760248e-02       3.726934e-02   2.167197e+07  \n",
       "min         0.000000e+00       0.000000e+00   5.500016e+06  \n",
       "25%         0.000000e+00       0.000000e+00   8.150739e+06  \n",
       "50%         0.000000e+00       0.000000e+00   1.257567e+07  \n",
       "75%         0.000000e+00       0.000000e+00   2.157901e+07  \n",
       "max         1.000000e+00       1.000000e+00   5.648711e+08  "
      ]
     },
     "execution_count": 15,
     "metadata": {},
     "output_type": "execute_result"
    }
   ],
   "source": [
    "# print a summary statistical of X\n",
    "X.describe()"
   ]
  },
  {
   "cell_type": "code",
   "execution_count": 16,
   "id": "edbaca7c-99bd-418c-9f20-75a3c8636427",
   "metadata": {},
   "outputs": [
    {
     "data": {
      "text/html": [
       "<div>\n",
       "<style scoped>\n",
       "    .dataframe tbody tr th:only-of-type {\n",
       "        vertical-align: middle;\n",
       "    }\n",
       "\n",
       "    .dataframe tbody tr th {\n",
       "        vertical-align: top;\n",
       "    }\n",
       "\n",
       "    .dataframe thead th {\n",
       "        text-align: right;\n",
       "    }\n",
       "</style>\n",
       "<table border=\"1\" class=\"dataframe\">\n",
       "  <thead>\n",
       "    <tr style=\"text-align: right;\">\n",
       "      <th></th>\n",
       "      <th>SaldoCapital</th>\n",
       "      <th>DiasMora</th>\n",
       "      <th>PagosRealizadoUltMes</th>\n",
       "      <th>PagosRealizadoUlt2Meses</th>\n",
       "      <th>PagosRealizadoUlt3Meses</th>\n",
       "      <th>PagosRealizadoUlt4Meses</th>\n",
       "      <th>PagosRealizadoUlt5Meses</th>\n",
       "      <th>PagosRealizadoUlt6Meses</th>\n",
       "      <th>PagosTotales</th>\n",
       "      <th>LocalizacionUlt6Meses</th>\n",
       "      <th>AcuerdosUlt6Meses</th>\n",
       "      <th>AcuerdosUlt3Meses</th>\n",
       "      <th>SaldoxCliente</th>\n",
       "    </tr>\n",
       "  </thead>\n",
       "  <tbody>\n",
       "    <tr>\n",
       "      <th>0</th>\n",
       "      <td>1378004.89</td>\n",
       "      <td>775</td>\n",
       "      <td>0.0</td>\n",
       "      <td>0.0</td>\n",
       "      <td>0.0</td>\n",
       "      <td>0.0</td>\n",
       "      <td>0.0</td>\n",
       "      <td>0.0</td>\n",
       "      <td>141215.991102</td>\n",
       "      <td>0</td>\n",
       "      <td>0</td>\n",
       "      <td>0</td>\n",
       "      <td>6342788.60</td>\n",
       "    </tr>\n",
       "    <tr>\n",
       "      <th>1</th>\n",
       "      <td>25670368.13</td>\n",
       "      <td>757</td>\n",
       "      <td>0.0</td>\n",
       "      <td>0.0</td>\n",
       "      <td>0.0</td>\n",
       "      <td>0.0</td>\n",
       "      <td>0.0</td>\n",
       "      <td>0.0</td>\n",
       "      <td>0.000000</td>\n",
       "      <td>1</td>\n",
       "      <td>0</td>\n",
       "      <td>0</td>\n",
       "      <td>25670368.13</td>\n",
       "    </tr>\n",
       "    <tr>\n",
       "      <th>2</th>\n",
       "      <td>891060.00</td>\n",
       "      <td>328</td>\n",
       "      <td>0.0</td>\n",
       "      <td>0.0</td>\n",
       "      <td>0.0</td>\n",
       "      <td>0.0</td>\n",
       "      <td>0.0</td>\n",
       "      <td>0.0</td>\n",
       "      <td>0.000000</td>\n",
       "      <td>0</td>\n",
       "      <td>0</td>\n",
       "      <td>0</td>\n",
       "      <td>5822331.00</td>\n",
       "    </tr>\n",
       "    <tr>\n",
       "      <th>3</th>\n",
       "      <td>5992551.24</td>\n",
       "      <td>1039</td>\n",
       "      <td>0.0</td>\n",
       "      <td>0.0</td>\n",
       "      <td>0.0</td>\n",
       "      <td>0.0</td>\n",
       "      <td>0.0</td>\n",
       "      <td>0.0</td>\n",
       "      <td>0.000000</td>\n",
       "      <td>0</td>\n",
       "      <td>0</td>\n",
       "      <td>0</td>\n",
       "      <td>5992551.24</td>\n",
       "    </tr>\n",
       "    <tr>\n",
       "      <th>4</th>\n",
       "      <td>19119531.00</td>\n",
       "      <td>390</td>\n",
       "      <td>0.0</td>\n",
       "      <td>0.0</td>\n",
       "      <td>0.0</td>\n",
       "      <td>0.0</td>\n",
       "      <td>0.0</td>\n",
       "      <td>0.0</td>\n",
       "      <td>0.000000</td>\n",
       "      <td>0</td>\n",
       "      <td>0</td>\n",
       "      <td>0</td>\n",
       "      <td>26908417.16</td>\n",
       "    </tr>\n",
       "  </tbody>\n",
       "</table>\n",
       "</div>"
      ],
      "text/plain": [
       "   SaldoCapital  DiasMora  PagosRealizadoUltMes  PagosRealizadoUlt2Meses  \\\n",
       "0    1378004.89       775                   0.0                      0.0   \n",
       "1   25670368.13       757                   0.0                      0.0   \n",
       "2     891060.00       328                   0.0                      0.0   \n",
       "3    5992551.24      1039                   0.0                      0.0   \n",
       "4   19119531.00       390                   0.0                      0.0   \n",
       "\n",
       "   PagosRealizadoUlt3Meses  PagosRealizadoUlt4Meses  PagosRealizadoUlt5Meses  \\\n",
       "0                      0.0                      0.0                      0.0   \n",
       "1                      0.0                      0.0                      0.0   \n",
       "2                      0.0                      0.0                      0.0   \n",
       "3                      0.0                      0.0                      0.0   \n",
       "4                      0.0                      0.0                      0.0   \n",
       "\n",
       "   PagosRealizadoUlt6Meses   PagosTotales  LocalizacionUlt6Meses  \\\n",
       "0                      0.0  141215.991102                      0   \n",
       "1                      0.0       0.000000                      1   \n",
       "2                      0.0       0.000000                      0   \n",
       "3                      0.0       0.000000                      0   \n",
       "4                      0.0       0.000000                      0   \n",
       "\n",
       "   AcuerdosUlt6Meses  AcuerdosUlt3Meses  SaldoxCliente  \n",
       "0                  0                  0     6342788.60  \n",
       "1                  0                  0    25670368.13  \n",
       "2                  0                  0     5822331.00  \n",
       "3                  0                  0     5992551.24  \n",
       "4                  0                  0    26908417.16  "
      ]
     },
     "execution_count": 16,
     "metadata": {},
     "output_type": "execute_result"
    }
   ],
   "source": [
    "# Fisrt rows of X\n",
    "X.head()"
   ]
  },
  {
   "cell_type": "markdown",
   "id": "6de91078-912a-4c81-9cf2-674f20cfc9bf",
   "metadata": {
    "jp-MarkdownHeadingCollapsed": true,
    "tags": []
   },
   "source": [
    "## 3. Preparación de los datos"
   ]
  },
  {
   "cell_type": "code",
   "execution_count": 17,
   "id": "048d4d16-ae63-40a7-a442-69f61fad90b7",
   "metadata": {},
   "outputs": [
    {
     "data": {
      "text/plain": [
       "Cosecha                          0\n",
       "IdCliente                        0\n",
       "LoanID                           0\n",
       "SaldoCapital                     0\n",
       "DiasMora                         0\n",
       "FechaCompra                      0\n",
       "Ciudad                           0\n",
       "Departamento                     0\n",
       "TipoProducto                     0\n",
       "PagosRealizadoUltMes             0\n",
       "PagosRealizadoUlt2Meses          0\n",
       "PagosRealizadoUlt3Meses          0\n",
       "PagosRealizadoUlt4Meses          0\n",
       "PagosRealizadoUlt5Meses          0\n",
       "PagosRealizadoUlt6Meses          0\n",
       "FechaUltPago               1196658\n",
       "PagosTotales                     0\n",
       "LocalizacionUlt6Meses            0\n",
       "AcuerdosUlt6Meses                0\n",
       "AcuerdosUlt3Meses                0\n",
       "SaldoxCliente                    0\n",
       "Fabrica                          0\n",
       "Canal                            0\n",
       "Pago                             0\n",
       "dtype: int64"
      ]
     },
     "execution_count": 17,
     "metadata": {},
     "output_type": "execute_result"
    }
   ],
   "source": [
    "# Verificamos valores faltantes\n",
    "clientes_unificado.isnull().sum()"
   ]
  },
  {
   "cell_type": "code",
   "execution_count": 18,
   "id": "e2470b60-d4b4-4d7e-8ea0-d339bd51a5a9",
   "metadata": {},
   "outputs": [
    {
     "data": {
      "text/plain": [
       "Pago                       1.000000\n",
       "AcuerdosUlt6Meses          0.151297\n",
       "AcuerdosUlt3Meses          0.150714\n",
       "PagosTotales               0.072835\n",
       "LocalizacionUlt6Meses      0.071262\n",
       "PagosRealizadoUlt3Meses    0.063182\n",
       "PagosRealizadoUlt4Meses    0.058843\n",
       "PagosRealizadoUlt5Meses    0.049344\n",
       "PagosRealizadoUltMes       0.048100\n",
       "PagosRealizadoUlt6Meses    0.047575\n",
       "PagosRealizadoUlt2Meses    0.032021\n",
       "IdCliente                  0.030700\n",
       "LoanID                     0.030368\n",
       "SaldoCapital               0.010165\n",
       "SaldoxCliente             -0.002750\n",
       "Cosecha                   -0.012094\n",
       "DiasMora                  -0.018843\n",
       "Name: Pago, dtype: float64"
      ]
     },
     "execution_count": 18,
     "metadata": {},
     "output_type": "execute_result"
    }
   ],
   "source": [
    "# Identificando las características que podrían llegar a tener mayor influencia sobre el modelo\n",
    "clientes_unificado.corr()['Pago'].sort_values(ascending=False)"
   ]
  },
  {
   "cell_type": "code",
   "execution_count": 19,
   "id": "f930e46c-3ccd-49b1-a22e-99cc5c662e79",
   "metadata": {},
   "outputs": [
    {
     "data": {
      "text/plain": [
       "<AxesSubplot:>"
      ]
     },
     "execution_count": 19,
     "metadata": {},
     "output_type": "execute_result"
    },
    {
     "data": {
      "image/png": "[encoded data removed]",
      "text/plain": [
       "<Figure size 864x720 with 2 Axes>"
      ]
     },
     "metadata": {
      "needs_background": "light"
     },
     "output_type": "display_data"
    }
   ],
   "source": [
    "# correlación respecto a la variable pago presentada en mapa de calor \n",
    "plt.figure(figsize=(12, 10))\n",
    "plt.rc({'size': '7'})\n",
    "sns.heatmap(clientes_unificado.corr(),  annot=True,cmap=\"YlGnBu\", annot_kws={\"size\":8})"
   ]
  },
  {
   "cell_type": "markdown",
   "id": "6ca124fc-2a02-4e3a-a8ab-adb53f501c8e",
   "metadata": {
    "jp-MarkdownHeadingCollapsed": true,
    "tags": []
   },
   "source": [
    "## 4. Definición Modelo Árbol de decisión"
   ]
  },
  {
   "cell_type": "code",
   "execution_count": 20,
   "id": "45e08f43-08e3-4722-a5f0-b8f3d9c53bf5",
   "metadata": {},
   "outputs": [
    {
     "data": {
      "text/plain": [
       "DecisionTreeClassifier(random_state=1)"
      ]
     },
     "execution_count": 20,
     "metadata": {},
     "output_type": "execute_result"
    }
   ],
   "source": [
    "# scikit-learn library\n",
    "from sklearn.tree import DecisionTreeClassifier\n",
    "\n",
    "# Definición modelo. random_state asedura los mismos resultados en cada ejecución\n",
    "clientes_model = DecisionTreeClassifier(random_state=1)\n",
    "\n",
    "# Ajuste del Modelo\n",
    "clientes_model.fit(X, y)"
   ]
  },
  {
   "cell_type": "code",
   "execution_count": 21,
   "id": "07cc4098-0afb-45d2-b185-881419ac29b8",
   "metadata": {},
   "outputs": [
    {
     "name": "stdout",
     "output_type": "stream",
     "text": [
      "Haciendo predicciones para 14 clientes...\n",
      "    SaldoCapital  DiasMora  PagosRealizadoUltMes  PagosRealizadoUlt2Meses  \\\n",
      "0     1378004.89       775                   0.0                      0.0   \n",
      "1    25670368.13       757                   0.0                      0.0   \n",
      "2      891060.00       328                   0.0                      0.0   \n",
      "3     5992551.24      1039                   0.0                      0.0   \n",
      "4    19119531.00       390                   0.0                      0.0   \n",
      "5      541063.00      1861                   0.0                      0.0   \n",
      "6     1799992.58      1337                   0.0                      0.0   \n",
      "7    64442587.77       463                   0.0                      0.0   \n",
      "8     3264144.35      1670                   0.0                      0.0   \n",
      "9     1677732.93      1268                   0.0                      0.0   \n",
      "10   11452190.49      1335                   0.0                      0.0   \n",
      "11    1563177.20      2130                   0.0                      0.0   \n",
      "12    2283503.00      1713                   0.0                      0.0   \n",
      "13    7589391.40       171                   0.0                      0.0   \n",
      "\n",
      "    PagosRealizadoUlt3Meses  PagosRealizadoUlt4Meses  PagosRealizadoUlt5Meses  \\\n",
      "0                       0.0                      0.0                      0.0   \n",
      "1                       0.0                      0.0                      0.0   \n",
      "2                       0.0                      0.0                      0.0   \n",
      "3                       0.0                      0.0                      0.0   \n",
      "4                       0.0                      0.0                      0.0   \n",
      "5                       0.0                      0.0                      0.0   \n",
      "6                       0.0                      0.0                      0.0   \n",
      "7                       0.0                      0.0                      0.0   \n",
      "8                       0.0                      0.0                      0.0   \n",
      "9                       0.0                      0.0                      0.0   \n",
      "10                      0.0                      0.0                      0.0   \n",
      "11                      0.0                      0.0                      0.0   \n",
      "12                      0.0                      0.0                      0.0   \n",
      "13                      0.0                      0.0                      0.0   \n",
      "\n",
      "    PagosRealizadoUlt6Meses   PagosTotales  LocalizacionUlt6Meses  \\\n",
      "0                       0.0  141215.991102                      0   \n",
      "1                       0.0       0.000000                      1   \n",
      "2                       0.0       0.000000                      0   \n",
      "3                       0.0       0.000000                      0   \n",
      "4                       0.0       0.000000                      0   \n",
      "5                       0.0       0.000000                      0   \n",
      "6                       0.0       0.000000                      0   \n",
      "7                       0.0       0.000000                      1   \n",
      "8                       0.0       0.000000                      0   \n",
      "9                       0.0       0.000000                      0   \n",
      "10                      0.0       0.000000                      0   \n",
      "11                      0.0       0.000000                      0   \n",
      "12                      0.0       0.000000                      1   \n",
      "13                      0.0       0.000000                      0   \n",
      "\n",
      "    AcuerdosUlt6Meses  AcuerdosUlt3Meses  SaldoxCliente  \n",
      "0                   0                  0     6342788.60  \n",
      "1                   0                  0    25670368.13  \n",
      "2                   0                  0     5822331.00  \n",
      "3                   0                  0     5992551.24  \n",
      "4                   0                  0    26908417.16  \n",
      "5                   0                  0    15229238.92  \n",
      "6                   0                  0    18542555.70  \n",
      "7                   0                  0    64442587.77  \n",
      "8                   0                  0     7291797.39  \n",
      "9                   0                  0    20638611.79  \n",
      "10                  0                  0    11452190.49  \n",
      "11                  0                  0    16386837.52  \n",
      "12                  0                  0    13820835.44  \n",
      "13                  0                  0     9627741.40  \n",
      "Las predicciones son: \n",
      "[0 0 0 0 0 0 0 0 0 0 0 0 0 0]\n"
     ]
    }
   ],
   "source": [
    "print(\"Haciendo predicciones para 14 clientes...\")\n",
    "print(X.head(14))\n",
    "print(\"Las predicciones son: \")\n",
    "print(clientes_model.predict(X.head(14)))"
   ]
  },
  {
   "cell_type": "markdown",
   "id": "22969dd8-4924-462f-83e8-4392843cddeb",
   "metadata": {},
   "source": [
    "### Validación del Modelo Árbol de Decisión"
   ]
  },
  {
   "cell_type": "code",
   "execution_count": 22,
   "id": "bd84ad4c-e1df-4e7f-8cec-4733e2636a61",
   "metadata": {},
   "outputs": [
    {
     "data": {
      "text/plain": [
       "0.0025651047226172606"
      ]
     },
     "execution_count": 22,
     "metadata": {},
     "output_type": "execute_result"
    }
   ],
   "source": [
    "# Importamos desde Sklearn mean absolute error\n",
    "from sklearn.metrics import mean_absolute_error\n",
    "\n",
    "prediccion_pago = clientes_model.predict(X)\n",
    "mean_absolute_error(y, prediccion_pago)"
   ]
  },
  {
   "cell_type": "markdown",
   "id": "538c0aa5-b196-46ce-8b16-f5919c2e4f24",
   "metadata": {},
   "source": [
    "El entrenamiento del modelo solo lo estábamos realizando con los datos de entrenamiento, por lo tanto el modelo se estaba ajustando a esos datos. Para lograr una mejor precisión de nuestro modelo es necesario probarlo con data que no ha visto antes a esto llamamos << datos de validación >>."
   ]
  },
  {
   "cell_type": "code",
   "execution_count": 23,
   "id": "21490ac2-c253-44aa-a594-cf82b7cb573c",
   "metadata": {},
   "outputs": [
    {
     "data": {
      "text/plain": [
       "array([0.28347861, 0.13788321, 0.10030674, 0.03210743, 0.02174598,\n",
       "       0.00418738, 0.00662966, 0.00492751, 0.02848392, 0.00583122,\n",
       "       0.00391332, 0.00316505, 0.36733997])"
      ]
     },
     "execution_count": 23,
     "metadata": {},
     "output_type": "execute_result"
    }
   ],
   "source": [
    "from sklearn.model_selection import train_test_split\n",
    "\n",
    "# Dividir mi data en entrenamiento y validación tanto para y como X\n",
    "# La división de la data se basa en un random number generator.\n",
    "# El argumento random_state garantiza que obtegamos la misma división cada vez que se ejecute.\n",
    "\n",
    "train_X, val_X, train_y, val_y = train_test_split(X, y, test_size=0.20, random_state = 0)\n",
    "\n",
    "# Definición del modelo Arbol de Desición\n",
    "clientes_model =  DecisionTreeClassifier(random_state=0)\n",
    "\n",
    "# Ajuste modelo\n",
    "clientes_model.fit(train_X, train_y)\n",
    "\n",
    "# predicción para datos validación\n",
    "preds_val = clientes_model.predict(val_X)\n",
    "\n",
    "# caracteristicas importantes \n",
    "clientes_model.feature_importances_\n"
   ]
  },
  {
   "cell_type": "code",
   "execution_count": 24,
   "id": "2a1716a0-0cb4-48df-86a1-60437770ba53",
   "metadata": {},
   "outputs": [
    {
     "data": {
      "image/png": "[encoded data removed]",
      "text/plain": [
       "<Figure size 432x288 with 1 Axes>"
      ]
     },
     "metadata": {
      "needs_background": "light"
     },
     "output_type": "display_data"
    }
   ],
   "source": [
    "# grafica de caractersticas importantes\n",
    "plt.bar(x=train_X.columns, \n",
    "        height=clientes_model.feature_importances_)\n",
    "plt.xticks(rotation = 90)\n",
    "plt.show()"
   ]
  },
  {
   "cell_type": "code",
   "execution_count": 38,
   "id": "3360e34b-d2a1-48be-ba3f-4dba48dae9c2",
   "metadata": {},
   "outputs": [
    {
     "name": "stdout",
     "output_type": "stream",
     "text": [
      "{10: 0.0048116201447591525, 100: 0.004766459887427795, 1000: 0.004848569446212081, 10000: 0.005759985548717654}\n",
      "Max nodos hoja: 100  \t\t Mean Absolute Error:  0\n"
     ]
    }
   ],
   "source": [
    "# Función para probar el error medio con diferentes profundidades de árbol de decisión\n",
    "def obtener_error_abs_medio(max_leaf_nodes, train_X, val_X, train_y, val_y):\n",
    "    model = DecisionTreeClassifier(max_leaf_nodes=max_leaf_nodes, random_state=0)\n",
    "    model.fit(train_X, train_y)\n",
    "    preds_val = model.predict(val_X)\n",
    "    mae = mean_absolute_error(val_y, preds_val)\n",
    "    return(mae)\n",
    "\n",
    "\n",
    "# Comparando diferentes número de nodos hoja en [10, 100, 1000, 10000,100000]:\n",
    "max_leaf_nodes = [10, 100, 1000, 10000]\n",
    "\n",
    "scores = {leaf_size: obtener_error_abs_medio(leaf_size, train_X, val_X, train_y, val_y) \n",
    "          for leaf_size in max_leaf_nodes}\n",
    "best_tree_size = min(scores, key=scores.get)\n",
    "\n",
    "print(scores)\n",
    "\n",
    "# Imprimiendo el nodo hoja con el error absoluto mas pequeño\n",
    "print(\"Max nodos hoja: %d  \\t\\t Mean Absolute Error:  %d\" %(best_tree_size, scores[best_tree_size]))\n",
    "    "
   ]
  },
  {
   "cell_type": "markdown",
   "id": "916fc4d8-0b42-4eb5-87be-a8323239a51e",
   "metadata": {
    "jp-MarkdownHeadingCollapsed": true,
    "tags": []
   },
   "source": [
    "## 5. Modelo Bosque Aleatorio"
   ]
  },
  {
   "cell_type": "code",
   "execution_count": 26,
   "id": "7463f2dc-2aba-462e-a913-ffde9f056736",
   "metadata": {},
   "outputs": [
    {
     "name": "stdout",
     "output_type": "stream",
     "text": [
      "0.00552597330618244\n"
     ]
    }
   ],
   "source": [
    "# Importando desde Sklearn RandomForest\n",
    "from sklearn.ensemble import RandomForestClassifier\n",
    "\n",
    "forest_model = RandomForestClassifier(random_state=1)\n",
    "forest_model.fit(train_X, train_y)\n",
    "forest_preds = forest_model.predict(val_X)\n",
    "print(mean_absolute_error(val_y, forest_preds))"
   ]
  },
  {
   "cell_type": "markdown",
   "id": "8db34c42-ae4f-4acd-851f-1a841e1fe5e8",
   "metadata": {
    "jp-MarkdownHeadingCollapsed": true,
    "tags": []
   },
   "source": [
    "## 6. Modelo Regresión logística"
   ]
  },
  {
   "cell_type": "code",
   "execution_count": 36,
   "id": "0a0bb5bf-9a76-4df6-9364-ef52024d8d73",
   "metadata": {},
   "outputs": [
    {
     "name": "stdout",
     "output_type": "stream",
     "text": [
      "0.39857622025068046\n"
     ]
    }
   ],
   "source": [
    "from sklearn.linear_model import LogisticRegression\n",
    "from sklearn.preprocessing import MinMaxScaler\n",
    "\n",
    "X_train_scaled = MinMaxScaler().fit_transform(train_X)\n",
    "regre_model = LogisticRegression()\n",
    "regre_model.fit(X_train_scaled, train_y)\n",
    "regre_preds = regre_model.predict(val_X)\n",
    "print(mean_absolute_error(val_y, regre_preds))\n"
   ]
  },
  {
   "cell_type": "code",
   "execution_count": 37,
   "id": "7d2dd7c5-9a4b-43e5-bebf-59219256799d",
   "metadata": {},
   "outputs": [
    {
     "data": {
      "text/plain": [
       "array([[ 2.96048342, -8.9348603 ,  0.11053807, -0.08719048,  4.68394435,\n",
       "         3.88246588,  2.94107109,  2.53587897,  7.39378538,  1.78363546,\n",
       "         2.44690275,  1.00710654, -1.27396435]])"
      ]
     },
     "execution_count": 37,
     "metadata": {},
     "output_type": "execute_result"
    }
   ],
   "source": [
    "regre_model.coef_"
   ]
  },
  {
   "cell_type": "code",
   "execution_count": 28,
   "id": "25fd5834-5466-4b79-9fae-c43bc5387b5f",
   "metadata": {},
   "outputs": [
    {
     "data": {
      "image/png": "[encoded data removed]",
      "text/plain": [
       "<Figure size 432x288 with 1 Axes>"
      ]
     },
     "metadata": {
      "needs_background": "light"
     },
     "output_type": "display_data"
    }
   ],
   "source": [
    "plt.bar(x=train_X.columns, \n",
    "        height=regre_model.coef_[0])\n",
    "plt.xticks(rotation = 90)\n",
    "plt.show()"
   ]
  },
  {
   "cell_type": "markdown",
   "id": "772d221f-482e-41cf-ab5c-724d07f93a7d",
   "metadata": {
    "jp-MarkdownHeadingCollapsed": true,
    "tags": []
   },
   "source": [
    "## 7. **Evaluación del Modelo**"
   ]
  },
  {
   "cell_type": "code",
   "execution_count": 29,
   "id": "cf68b03a-c77f-4fa8-a147-bae575616d8b",
   "metadata": {},
   "outputs": [],
   "source": [
    "from sklearn.metrics import plot_confusion_matrix\n",
    "\n",
    "# metricas de desempeño del modelo\n",
    "def conf_mat_acc(model):\n",
    "    disp = plot_confusion_matrix(model, train_X, train_y,\n",
    "                                 cmap=plt.cm.Blues, values_format=\"d\")\n",
    "    true_pred = disp.confusion_matrix[0,0]+disp.confusion_matrix[1,1]\n",
    "    total_data = np.sum(disp.confusion_matrix)\n",
    "    accuracy = true_pred/total_data\n",
    "    print('accuracy: ', np.round(accuracy, 2))\n",
    "    plt.show()"
   ]
  },
  {
   "cell_type": "code",
   "execution_count": 30,
   "id": "34cfc76c-d33d-458c-88d3-7708821ab508",
   "metadata": {},
   "outputs": [
    {
     "name": "stdout",
     "output_type": "stream",
     "text": [
      "accuracy:  1.0\n"
     ]
    },
    {
     "data": {
      "image/png": "[encoded data removed]",
      "text/plain": [
       "<Figure size 432x288 with 2 Axes>"
      ]
     },
     "metadata": {
      "needs_background": "light"
     },
     "output_type": "display_data"
    }
   ],
   "source": [
    "conf_mat_acc(clientes_model)"
   ]
  },
  {
   "cell_type": "code",
   "execution_count": 31,
   "id": "2e20b94d-4b37-4a07-a187-a3897b075d2f",
   "metadata": {},
   "outputs": [
    {
     "name": "stdout",
     "output_type": "stream",
     "text": [
      "accuracy:  1.0\n"
     ]
    },
    {
     "data": {
      "image/png": "[encoded data removed]",
      "text/plain": [
       "<Figure size 432x288 with 2 Axes>"
      ]
     },
     "metadata": {
      "needs_background": "light"
     },
     "output_type": "display_data"
    }
   ],
   "source": [
    "conf_mat_acc(forest_model)"
   ]
  },
  {
   "cell_type": "code",
   "execution_count": 32,
   "id": "4f2f0964-c61f-444d-a856-8f2140cac06a",
   "metadata": {},
   "outputs": [
    {
     "name": "stdout",
     "output_type": "stream",
     "text": [
      "accuracy:  0.6\n"
     ]
    },
    {
     "data": {
      "image/png": "[encoded data removed]",
      "text/plain": [
       "<Figure size 432x288 with 2 Axes>"
      ]
     },
     "metadata": {
      "needs_background": "light"
     },
     "output_type": "display_data"
    }
   ],
   "source": [
    "conf_mat_acc(regre_model)"
   ]
  },
  {
   "cell_type": "markdown",
   "id": "76d5d512-bb3f-4c96-87b5-dad91c4ba115",
   "metadata": {
    "jp-MarkdownHeadingCollapsed": true,
    "tags": []
   },
   "source": [
    "## 8. **Modelo final**"
   ]
  },
  {
   "cell_type": "code",
   "execution_count": 33,
   "id": "9fddbcd2-3ffc-4507-ad87-853e530a5ee6",
   "metadata": {},
   "outputs": [],
   "source": [
    "# ruta archivo con datos de prueba\n",
    "test_data_path = 'C:/Users/diana/Caso_analista_pruebas/Clientes_a_Calificar.csv'\n",
    "\n",
    "# lectura archivo Clientes_a_Calificar\n",
    "test_data = pd.read_csv(test_data_path)\n",
    "\n",
    "# Creación test_X que viene desde test_data pero solo incluyendo las caracteriticas (features) para predecir y (Pago)\n",
    "test_X = test_data[features]\n"
   ]
  },
  {
   "cell_type": "code",
   "execution_count": 40,
   "id": "06234b06-73c1-4024-9849-f3ccd3d92955",
   "metadata": {},
   "outputs": [
    {
     "name": "stdout",
     "output_type": "stream",
     "text": [
      "[0 0 0 0 0 0 0 0 0 0 0 0 0 0 0 0 0 0 0 0 0 0 0 0 0 0 0 0 1 0 0 0 0 0 0 0 0\n",
      " 0 0 0 0 0 0 0 0 0 0 0 0 0 0 0 0 0 0 0 0 0 0 0 0 0 0 0 0 0 0 0 0 0 0 0 0 0\n",
      " 0 0 0 0 0 0 0 0 0 0 0 0 0 0 0 0 0 0 0 0 0 0 0 0 0 0]\n",
      "[0 0 0 0 0 0 0 0 0 0 0 0 0 0 0 0 0 0 0 0 0 0 0 0 0 0 0 0 0 0 0 0 0 0 0 0 0\n",
      " 0 0 0 0 0 0 0 0 0 0 0 0 0 0 0 0 0 0 0 0 0 0 0 0 0 0 0 0 0 0 0 0 0 0 0 0 0\n",
      " 0 0 0 0 0 0 0 0 0 0 0 0 0 0 0 0 0 0 0 0 0 0 0 0 0 0]\n"
     ]
    }
   ],
   "source": [
    "# prediccion variable objetivo <<Pago>> en test_data\n",
    "\n",
    "# predicciones modelo árbol de decisión\n",
    "y_preds_tree = clientes_model.predict(test_X)\n",
    "\n",
    "# predicciones modelo bosques aleatorio\n",
    "y_preds_forest = forest_model.predict(test_X)\n",
    "\n",
    "print(y_preds_tree[:])\n",
    "print(y_preds_forest[:])"
   ]
  },
  {
   "cell_type": "markdown",
   "id": "e368f3cf-e7af-4624-8dfd-bacdd8999085",
   "metadata": {
    "jp-MarkdownHeadingCollapsed": true,
    "tags": []
   },
   "source": [
    "## 9. Resultados"
   ]
  },
  {
   "cell_type": "code",
   "execution_count": 46,
   "id": "7c87872b-52aa-4c40-8421-5e40ae45aecc",
   "metadata": {},
   "outputs": [],
   "source": [
    "# Ejecutamos codigo y guardamos resultados en archivo csv\n",
    "\n",
    "output = pd.DataFrame({'IdLoan': test_data.IdCliente,\n",
    "                       'Pago': y_preds_tree})\n",
    "output.to_csv('clientes_calificados.csv', index=False)"
   ]
  },
  {
   "cell_type": "code",
   "execution_count": 55,
   "id": "e4620321-b6ff-4049-b2e7-4b85a54afe43",
   "metadata": {},
   "outputs": [
    {
     "name": "stdout",
     "output_type": "stream",
     "text": [
      "La probabilidad para los 100 clientes es del:  1 %\n"
     ]
    }
   ],
   "source": [
    "probabilidad = y_preds_tree[y_preds_tree>0].sum()\n",
    "print('La probabilidad para los 100 clientes es del: ',int((probabilidad/ len(y_preds_tree))*100), '%')"
   ]
  },
  {
   "cell_type": "code",
   "execution_count": null,
   "id": "510ea62a-67ed-4b2e-9b3d-84d09ade2dd4",
   "metadata": {},
   "outputs": [],
   "source": []
  }
 ],
 "metadata": {
  "kernelspec": {
   "display_name": "Python 3 (ipykernel)",
   "language": "python",
   "name": "python3"
  },
  "language_info": {
   "codemirror_mode": {
    "name": "ipython",
    "version": 3
   },
   "file_extension": ".py",
   "mimetype": "text/x-python",
   "name": "python",
   "nbconvert_exporter": "python",
   "pygments_lexer": "ipython3",
   "version": "3.9.7"
  }
 },
 "nbformat": 4,
 "nbformat_minor": 5
}
